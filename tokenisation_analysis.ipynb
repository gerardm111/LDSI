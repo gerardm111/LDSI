{
 "cells": [
  {
   "cell_type": "code",
   "execution_count": 1,
   "metadata": {},
   "outputs": [],
   "source": [
    "import spacy\n",
    "from spacy.attrs import ORTH"
   ]
  },
  {
   "cell_type": "code",
   "execution_count": 35,
   "metadata": {},
   "outputs": [],
   "source": [
    "nlp = spacy.load(\"en_core_web_sm\")\n",
    "nlp.tokenizer.add_special_case('Vet. App.', [{ORTH: 'Vet. App.'}])\n",
    "nlp.tokenizer.add_special_case('Veterans Law Judge', [{ORTH: 'Veterans Law Judge'}])\n",
    "nlp.tokenizer.add_special_case('Veterans Affairs', [{ORTH: 'Veterans Affairs'}])\n",
    "nlp.tokenizer.add_special_case(\"Veterans' Appeals\", [{ORTH: \"Veterans' Appeals\"}])"
   ]
  },
  {
   "cell_type": "code",
   "execution_count": 36,
   "metadata": {},
   "outputs": [],
   "source": [
    "ruler = nlp.get_pipe(\"attribute_ruler\")\n",
    "patterns = [[{\"TEXT\": \"[\"}], [{\"TEXT\": \"\\n\"}], [{\"TEXT\": \"'\"}], [{\"TEXT\": \"\\r\"}], [{\"TEXT\": \"t\"}]]\n",
    "attrs = {\"POS\": \"PUNCT\"}\n",
    "ruler.add(patterns=patterns, attrs=attrs, index=0)\n"
   ]
  },
  {
   "cell_type": "code",
   "execution_count": 37,
   "metadata": {},
   "outputs": [],
   "source": [
    "def spacy_tokenize(txt):\n",
    "    doc = nlp(txt)\n",
    "    tokens = list(doc)\n",
    "    clean_tokens = []\n",
    "    par_removed = ''\n",
    "    for t in tokens:\n",
    "        if t.pos_ == 'PUNCT':\n",
    "            pass\n",
    "        elif t.pos_ == 'NUM':\n",
    "            clean_tokens.append(f'<NUM{len(t)}>')\n",
    "        elif t.lemma_ == \"'s\":\n",
    "            pass\n",
    "        elif '(' in t.lemma_:\n",
    "            par_split = t.lemma_.split('(')\n",
    "            for elem in par_split:\n",
    "                par_removed = par_removed + elem\n",
    "            par_split = spacy_tokenize(par_removed)\n",
    "            for elem in par_split:\n",
    "                clean_tokens.append(elem)\n",
    "        elif \"\\n\" in t.lemma_:\n",
    "            par_split = t.lemma_.split('\\n')\n",
    "            for elem in par_split:\n",
    "                if elem != ' ' and elem != '':\n",
    "                    par_removed = par_removed + ' ' + elem\n",
    "            par_split = spacy_tokenize(par_removed)\n",
    "            for elem in par_split:\n",
    "                clean_tokens.append(elem)\n",
    "        else:\n",
    "            clean_tokens.append(t.lemma_.lower())\n",
    "    return clean_tokens"
   ]
  },
  {
   "cell_type": "code",
   "execution_count": 41,
   "metadata": {},
   "outputs": [],
   "source": [
    "example_procedure_1 = \"Archive Date: 07/11/16\"\n",
    "example_fact_1 = \"He related that he was \\\"having a reoccurrence of bronchitis [symptoms].\\\"\"\n",
    "example_procedure_2 = \"Veterans Law Judge, Board of Veterans' Appeals\\n\\n\\n\\nDepartment of Veterans Affairs\"\n",
    "example_cit_2 = \"38 U.S.C.A. \\u00a7\\u00a7 1101, 1110 (West 2014); 38 C.F.R. \\u00a7\\u00a7 3.303, 3.304 (2015).\"\n",
    "example_seg_1 = \"Acting Veterans \\n Law Judge, Board of Veterans' Appeals\\n\\nUnder 38 U.S.C.A. \\u00a7 7252, only \\ntoday a decision of the Board is appealable to the Court.\"\n",
    "example_basic_1 = 'In sum, as the preponderance of the evidence is against the Veteran\\'s claim, his appeal must be denied.'\n",
    "example_cit_1 = 'Smith v. Gober, 14 Vet. App. 227 (2000), aff\\'d 281 F.3d 1384 (Fed. Cir. 2002); Dela Cruz v. Principi, 15 Vet. App. 143 (2001); see also Quartuccio v. Principi, 16 Vet. App. 183 (2002).'\n",
    "example_rule_1 = '\"To establish a right to compensation for a present disability, a Veteran must show: \"(1) the existence of a present disability; (2) in-service incurrence or aggravation of a disease or injury; and (3) a causal relationship between the present disability and the disease or injury incurred or aggravated during service\"-the so-called \"nexus\" requirement.\"'\n",
    "example_mixed_1 = 'In Dingess v. Nicholson, 19 Vet. App. 473 (2006), the U.S. Court of Appeals for Veterans Claims held that, upon receipt of an application for a service-connection claim, 38 U.S.C.A. � 5103(a) and 38 C.F.R. � 3.159(b) require VA to provide the claimant with notice that a disability rating and an effective date for the award of benefits will be assigned if service connection is awarded. '"
   ]
  },
  {
   "cell_type": "code",
   "execution_count": 42,
   "metadata": {},
   "outputs": [
    {
     "name": "stdout",
     "output_type": "stream",
     "text": [
      "Acting Veterans \n",
      " Law Judge, Board of Veterans' Appeals\n",
      "\n",
      "Under 38 U.S.C.A. § 7252, only \n",
      "today a decision of the Board is appealable to the Court.\n",
      "['acting', 'veterans', 'law', 'judge', 'board', 'of', \"veterans' appeal\", 'under', '<NUM2>', 'u.s.c.a.', '§', '<NUM4>', 'only', 'today', 'a', 'decision', 'of', 'the', 'board', 'be', 'appealable', 'to', 'the', 'court'] 24\n"
     ]
    }
   ],
   "source": [
    "text = example_seg_1\n",
    "print(text)\n",
    "print(spacy_tokenize(text), len(spacy_tokenize(text)))"
   ]
  },
  {
   "cell_type": "code",
   "execution_count": null,
   "metadata": {},
   "outputs": [],
   "source": []
  }
 ],
 "metadata": {
  "interpreter": {
   "hash": "916dbcbb3f70747c44a77c7bcd40155683ae19c65e1c03b4aa3499c5328201f1"
  },
  "kernelspec": {
   "display_name": "Python 3.8.10 64-bit",
   "language": "python",
   "name": "python3"
  },
  "language_info": {
   "codemirror_mode": {
    "name": "ipython",
    "version": 3
   },
   "file_extension": ".py",
   "mimetype": "text/x-python",
   "name": "python",
   "nbconvert_exporter": "python",
   "pygments_lexer": "ipython3",
   "version": "3.8.10"
  },
  "orig_nbformat": 4
 },
 "nbformat": 4,
 "nbformat_minor": 2
}
